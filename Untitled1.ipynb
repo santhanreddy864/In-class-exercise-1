{
  "nbformat": 4,
  "nbformat_minor": 0,
  "metadata": {
    "colab": {
      "name": "Untitled1.ipynb",
      "provenance": [],
      "collapsed_sections": []
    },
    "kernelspec": {
      "name": "python3",
      "display_name": "Python 3"
    }
  },
  "cells": [
    {
      "cell_type": "code",
      "metadata": {
        "colab": {
          "base_uri": "https://localhost:8080/"
        },
        "id": "6NrqlgUQ-ji-",
        "outputId": "ebeca1c1-1b2e-47b1-ae68-44dc90f71f13"
      },
      "source": [
        "#program to calculate the length of a string\r\n",
        "str = input(\"enter a string :\")\r\n",
        "print(len(str))\r\n"
      ],
      "execution_count": null,
      "outputs": [
        {
          "output_type": "stream",
          "text": [
            "enter a string :This is testing program\n",
            "23\n"
          ],
          "name": "stdout"
        }
      ]
    },
    {
      "cell_type": "code",
      "metadata": {
        "colab": {
          "base_uri": "https://localhost:8080/"
        },
        "id": "-8UHqHYcBof4",
        "outputId": "fbc29aa7-14cb-4f4f-8d7c-a433f5fb2754"
      },
      "source": [
        "#program to count the no. of characters in string\r\n",
        "str = input(\"enter a string:\")\r\n",
        "total = 0\r\n",
        "\r\n",
        "for i in range(len(str)):\r\n",
        "  total = total + 1\r\n",
        "\r\n",
        "print(\"no of characters in string=\",total)\r\n"
      ],
      "execution_count": 57,
      "outputs": [
        {
          "output_type": "stream",
          "text": [
            "enter a string:this is 2nd question\n",
            "no of characters in string= 20\n"
          ],
          "name": "stdout"
        }
      ]
    },
    {
      "cell_type": "code",
      "metadata": {
        "id": "O2VC52rgJRLH"
      },
      "source": [
        " "
      ],
      "execution_count": null,
      "outputs": []
    },
    {
      "cell_type": "code",
      "metadata": {
        "colab": {
          "base_uri": "https://localhost:8080/"
        },
        "id": "gIv_A9d7Ip5R",
        "outputId": "acefb296-2adf-4caa-8ac3-6fc6776e1faa"
      },
      "source": [
        "#program to sum of all items in a list\r\n",
        "list = [10,20,30,40,50]\r\n",
        "total=0\r\n",
        "\r\n",
        "for x in range(0,len(list)):\r\n",
        "    total = total + list[x]\r\n",
        "\r\n",
        "print(\"sum of all items in list = \",total)\r\n",
        "\r\n",
        "#another method\r\n",
        "list =[1,2,3,4,5]\r\n",
        "total = sum(list)\r\n",
        "\r\n",
        "print(\"sum of all items in list = \",total)\r\n",
        "\r\n"
      ],
      "execution_count": null,
      "outputs": [
        {
          "output_type": "stream",
          "text": [
            "sum of all items in list =  150\n",
            "sum of all items in list =  15\n"
          ],
          "name": "stdout"
        }
      ]
    },
    {
      "cell_type": "code",
      "metadata": {
        "id": "I-P8DtPpTpWb",
        "colab": {
          "base_uri": "https://localhost:8080/"
        },
        "outputId": "f1140b55-cf7c-4fee-f804-12b38bdf145a"
      },
      "source": [
        "#program to get a string from a given string where all occurences of its first char have been changed to \\\\$ except the first char itself\r\n",
        "def str_replace(str):\r\n",
        "    first_Char = str[0]\r\n",
        "    Change_str = str[1:].replace(first_Char,'//$')\r\n",
        "    return first_Char+Change_str\r\n",
        "\r\n",
        "print(str_replace('restart'))\r\n",
        "\r\n",
        "\r\n",
        "\r\n",
        "\r\n",
        "\r\n",
        "\r\n",
        "\r\n"
      ],
      "execution_count": 39,
      "outputs": [
        {
          "output_type": "stream",
          "text": [
            "resta//$t\n"
          ],
          "name": "stdout"
        }
      ]
    },
    {
      "cell_type": "code",
      "metadata": {
        "colab": {
          "base_uri": "https://localhost:8080/"
        },
        "id": "6EtlovTUE5d8",
        "outputId": "a31544cd-fdb8-4c7b-d4cc-499fb55fd960"
      },
      "source": [
        "#program which accept two parameter a and b to calculate and output the result s, where s=3.14*(1+a/b)^3\r\n",
        "a =int(input(\"a\"))\r\n",
        "b = int(input(\"\\nb\"))\r\n",
        "\r\n",
        "s = 3.14*(1+a/b)**3\r\n",
        "\r\n",
        "print(\"The result of the output a and b to equation is = \",s )\r\n",
        "\r\n"
      ],
      "execution_count": 6,
      "outputs": [
        {
          "output_type": "stream",
          "text": [
            "a5\n",
            "\n",
            "b3\n",
            "The result of the output a and b to equation is =  59.54370370370373\n"
          ],
          "name": "stdout"
        }
      ]
    },
    {
      "cell_type": "code",
      "metadata": {
        "id": "E9E9gX5LPqc-",
        "colab": {
          "base_uri": "https://localhost:8080/"
        },
        "outputId": "cbba5a40-3f8b-458c-d48c-acd6b10abf48"
      },
      "source": [
        "#program to concatenate following dictionaries to create a new one\r\n",
        "dic1={1:10, 2:20}\r\n",
        "dic2={3:30, 4:40}\r\n",
        "dic3={5:50, 6:60}\r\n",
        "\r\n",
        "dic2.update(dic3)\r\n",
        "dic1.update(dic2)\r\n",
        "\r\n",
        "print(\"concatenate dictionaries is:\")\r\n",
        "print(dic1)\r\n",
        "\r\n",
        "\r\n",
        "\r\n"
      ],
      "execution_count": 58,
      "outputs": [
        {
          "output_type": "stream",
          "text": [
            "concatenate dictionaries is:\n",
            "{1: 10, 2: 20, 3: 30, 4: 40, 5: 50, 6: 60}\n"
          ],
          "name": "stdout"
        }
      ]
    },
    {
      "cell_type": "code",
      "metadata": {
        "colab": {
          "base_uri": "https://localhost:8080/"
        },
        "id": "kpBpEs1kY4TZ",
        "outputId": "69650a76-b940-40eb-f881-c89a06ef46a1"
      },
      "source": [
        "#program to check whether an element exists in a tuple\r\n",
        "tuple = (10,5,24,85,32)\r\n",
        "\r\n",
        "if 5 in tuple:\r\n",
        "   print(5,\"is present in the tuple\")\r\n",
        "else:\r\n",
        "   print(5,\"is not present in the tuple\")\r\n",
        "\r\n",
        "  \r\n"
      ],
      "execution_count": 64,
      "outputs": [
        {
          "output_type": "stream",
          "text": [
            "5 is present in the tuple\n"
          ],
          "name": "stdout"
        }
      ]
    },
    {
      "cell_type": "code",
      "metadata": {
        "colab": {
          "base_uri": "https://localhost:8080/"
        },
        "id": "ykxZnerqgoVr",
        "outputId": "6e18b51f-503a-4f33-e695-9920d38ead69"
      },
      "source": [
        "#program to find the maximum and minimum value in a set\r\n",
        "set = (12,54,84,96,45,34,9)\r\n",
        "print(\"the maximum value in set is :\",max(set))\r\n",
        "print(\"the minimum value in set is:\",min(set))\r\n",
        "\r\n"
      ],
      "execution_count": 66,
      "outputs": [
        {
          "output_type": "stream",
          "text": [
            "the maximum value in set is : 96\n",
            "the minimum value in set is: 9\n"
          ],
          "name": "stdout"
        }
      ]
    },
    {
      "cell_type": "code",
      "metadata": {
        "colab": {
          "base_uri": "https://localhost:8080/"
        },
        "id": "TJGI5IP8lX9p",
        "outputId": "cf09877a-6cec-4c53-a517-c6f6bbcebbb1"
      },
      "source": [
        "#program to randomly divide the students in this class into five groups for term projects \r\n",
        "import random\r\n",
        "from datetime import datetime\r\n",
        "\r\n",
        "\r\n",
        "def getGroupSize(st_left):\r\n",
        "    min_gs = 3\r\n",
        "    max_gs = 5\r\n",
        "    if st_left == 7:\r\n",
        "        max_gs = 4\r\n",
        "    elif st_left ==6:\r\n",
        "        max_gs = 3\r\n",
        "    elif st_left <=5:\r\n",
        "        min_gs = st_left\r\n",
        "        max_gs = st_left\r\n",
        "\r\n",
        "    return min_gs , max_gs\r\n",
        "\r\n",
        "def generateGroups(st_list):\r\n",
        "     groups = []\r\n",
        "     while st_list:\r\n",
        "        min_gs, max_gs = getGroupSize(len(st_list))\r\n",
        "        random.seed(datetime.now())\r\n",
        "        gs = random.randint(min_gs, max_gs)\r\n",
        "        group = []\r\n",
        "        for _ in range(gs):\r\n",
        "           index = random.randint(0,len(st_list)-1)\r\n",
        "           st = st_list.pop(index)\r\n",
        "           group.append(st)\r\n",
        "        groups.append(group)\r\n",
        "     return groups\r\n",
        "\r\n",
        "st_list = ['vmb0067','pc0353','snd0097','yye0005','sg0940','bk0301','rak0120','rrk0058','spk0057','vl0135','nm0547','pn0159','msp0174','dd0420','ds0761','ds0761','ss1995','at0739','at0768','mv0299','tv0119','dy0091']\r\n",
        "students = generateGroups(st_list)\r\n",
        "print(st) "
      ],
      "execution_count": 60,
      "outputs": [
        {
          "output_type": "stream",
          "text": [
            "google\n"
          ],
          "name": "stdout"
        }
      ]
    }
  ]
}